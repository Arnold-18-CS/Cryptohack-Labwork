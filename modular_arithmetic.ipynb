{
 "cells": [
  {
   "cell_type": "markdown",
   "metadata": {},
   "source": [
    "# MODULAR ARITHMETIC\n",
    "\n",
    "This is the foundation of mathematics of which all of public key cryptocraphy is built upon.\n",
    "\n",
    "Unlike integers which get bigger infinitely, modular arithmetic \"wraps around\" and returns back to zero. A good example is the 24 Hour clock system where after 23:59 we wrap around back to 00:00."
   ]
  },
  {
   "cell_type": "markdown",
   "metadata": {},
   "source": [
    "## Greatest Common Divisor\n",
    "\n",
    "This is the largest number which can divide 2 positive integers `a` and `b`.\n",
    "\n",
    "In the case that we are taking the GCD of 2 prime numbers, then `gcd(a,b) = 1` which implies that they are <span color = \"green\">coprime</span>. The 2 cases for which numbers are coprime are:\n",
    "1. Both numbers `a` and `b` are prime.\n",
    "2. `a` is prime and `b < a`.\n",
    "\n",
    "To calculate the gcd of 2 integers we can emply the Euclidean Algorithm.\n",
    "\n",
    "### Euclidean Algorithm\n",
    "\n",
    "Given 2 integers `a` and `b` where `a > b`, we can express `a/b` as `a = bq + r` where `q` is the quotient and `r` is the remainder.\n",
    "\n",
    "To calculate the GCD of 2 numbers using this algorithm we follow these steps:\n",
    "1. Express `gcd(a, b)` as `a/b`\n",
    "2. Express `a/b` as `a = bq + r`\n",
    "3. Replace `a,b` with `b,r` respectively\n",
    "4. Repeat steps 2 and 3 until `r = 0`\n",
    "5. `gcd(a, b)` is the last non-zero remainder or value of `b` in the last iteration.\n",
    "\n",
    "Example: Calculate the gcd of 252 and 105\n",
    "\n",
    "<span style = \"color:yellow\">\n",
    "\n",
    "gcd(252, 105) = > 252, 105\n",
    "\n",
    "\n",
    "Step 1: 252 = 105(2) + 42 => a = 252, b = 105, q = 2, r = 42\n",
    "\n",
    "Step 2: 104 = 42(2) + 21 => a = 105, b = 42, q = 2, r = 21\n",
    "\n",
    "Step 3: 42 = 21(2) + 0 => a = 42, b = 21, q = 2, r = 0\n",
    "\n",
    "Therefore, gcd(252, 105) = 21\n",
    "</span>\n"
   ]
  },
  {
   "cell_type": "markdown",
   "metadata": {},
   "source": [
    "We can express the steps shown above in Python as shown below"
   ]
  },
  {
   "cell_type": "code",
   "execution_count": 2,
   "metadata": {},
   "outputs": [
    {
     "name": "stdout",
     "output_type": "stream",
     "text": [
      "GCD of 12 and 8: 4\n"
     ]
    }
   ],
   "source": [
    "def euclidean_gcd(a,b):\n",
    "    while b != 0:\n",
    "        a,b = b, a % b\n",
    "        # return euclidean_gcd*(b, a % b)\n",
    "    return a\n",
    "\n",
    "a,b = 12, 8\n",
    "\n",
    "print(f\"GCD of {a} and {b}: {euclidean_gcd(a, b)}\")"
   ]
  }
 ],
 "metadata": {
  "kernelspec": {
   "display_name": "Python 3",
   "language": "python",
   "name": "python3"
  },
  "language_info": {
   "codemirror_mode": {
    "name": "ipython",
    "version": 3
   },
   "file_extension": ".py",
   "mimetype": "text/x-python",
   "name": "python",
   "nbconvert_exporter": "python",
   "pygments_lexer": "ipython3",
   "version": "3.12.6"
  }
 },
 "nbformat": 4,
 "nbformat_minor": 2
}
