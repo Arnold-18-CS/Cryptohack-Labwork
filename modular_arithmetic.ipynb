{
 "cells": [
  {
   "cell_type": "markdown",
   "metadata": {},
   "source": [
    "# MODULAR ARITHMETIC\n",
    "\n",
    "This is the foundation of mathematics of which all of public key cryptocraphy is built upon.\n",
    "\n",
    "Unlike integers which get bigger infinitely, modular arithmetic \"wraps around\" and returns back to zero. A good example is the 24 Hour clock system where after 23:59 we wrap around back to 00:00."
   ]
  },
  {
   "cell_type": "markdown",
   "metadata": {},
   "source": [
    "## Greatest Common Divisor\n",
    "\n",
    "This is the largest number which can divide 2 positive integers `a` and `b`.\n",
    "\n",
    "In the case that we are taking the GCD of 2 prime numbers, then `gcd(a,b) = 1` which implies that they are <span color = \"green\">coprime</span>. The 2 cases for which numbers are coprime are:\n",
    "1. Both numbers `a` and `b` are prime.\n",
    "2. `a` is prime and `b < a`.\n",
    "\n",
    "To calculate the gcd of 2 integers we can emply the Euclidean Algorithm.\n",
    "\n",
    "### Euclidean Algorithm\n",
    "\n",
    "Given 2 integers `a` and `b` where `a > b`, we can express `a/b` as `a = bq + r` where `q` is the quotient and `r` is the remainder.\n",
    "\n",
    "To calculate the GCD of 2 numbers using this algorithm we follow these steps:\n",
    "1. Express `gcd(a, b)` as `a/b`\n",
    "2. Express `a/b` as `a = bq + r`\n",
    "3. Replace `a,b` with `b,r` respectively\n",
    "4. Repeat steps 2 and 3 until `r = 0`\n",
    "5. `gcd(a, b)` is the last non-zero remainder or value of `b` in the last iteration.\n",
    "\n",
    "Example: Calculate the gcd of 252 and 105\n",
    "\n",
    "<span style = \"color:yellow\">\n",
    "\n",
    "gcd(252, 105) = > 252, 105\n",
    "\n",
    "\n",
    "Step 1: 252 = 105(2) + 42 => a = 252, b = 105, q = 2, r = 42\n",
    "\n",
    "Step 2: 104 = 42(2) + 21 => a = 105, b = 42, q = 2, r = 21\n",
    "\n",
    "Step 3: 42 = 21(2) + 0 => a = 42, b = 21, q = 2, r = 0\n",
    "\n",
    "Therefore, gcd(252, 105) = 21\n",
    "</span>\n"
   ]
  },
  {
   "cell_type": "markdown",
   "metadata": {},
   "source": [
    "We can express the steps shown above in Python as shown below"
   ]
  },
  {
   "cell_type": "code",
   "execution_count": 2,
   "metadata": {},
   "outputs": [
    {
     "name": "stdout",
     "output_type": "stream",
     "text": [
      "GCD of 12 and 8: 4\n"
     ]
    }
   ],
   "source": [
    "def euclidean_gcd(a,b):\n",
    "    while b != 0:\n",
    "        a,b = b, a % b\n",
    "        # return euclidean_gcd*(b, a % b)\n",
    "    return a\n",
    "\n",
    "a,b = 12, 8\n",
    "\n",
    "print(f\"GCD of {a} and {b}: {euclidean_gcd(a, b)}\")"
   ]
  },
  {
   "cell_type": "markdown",
   "metadata": {},
   "source": [
    "## Extended Euclidean Algorithm\n",
    "\n",
    "Assuming we have 2 positive integers `a` and `b`, the extended euclidean algorithm is an efficient way to find integers `x` and `y` such that:\n",
    "\n",
    "`a` * `x` + `b` * `y` = gcd(a, b)\n",
    "\n",
    "Steps\n",
    "1. let gcd(a, b) = g\n",
    "2. This implies that a = g, b = 0 as the results in the final iteration of Euclidean algorithm\n",
    "3. Rewritten: gx + by = g, thus g(1) + b(0) = g\n",
    "4. This implies that x1 = 1 and y1 = 0\n",
    "5. Recall that (a,b) = (b,r) = (b, a%b)\n",
    "6. Substitution into 3: b*x1 + (a%b)y1 = g\n",
    "7. let a%b = a - (a//b)b\n",
    "8. After subtitution, final solution is x = y1, y = x1 - (a//b)y1\n",
    "\n",
    "Example:\n",
    "Finding the gcd of 81 and 57 by the Euclidean Algorithm:\n",
    "\n",
    "0. 81 = 1(57) + 24\n",
    "1. 57 = 2(24) + 9\n",
    "2. 24 = 2(9) + 6\n",
    "3. 9 = 1(6) + 3\n",
    "4. 6 = 2(3) + 0.\n",
    "\n",
    "Reversing the steps to find our values `x` and `y`\n",
    "gcd(a, b) i.e r = a - qb\n",
    "\n",
    "4. 3 = 9 - 1(<span style = color:red>6</span>)\n",
    "3. 3 = 9 - 1(24 - 2(9)) = 3(<span style = color:red>9</span>) - 1(24)\n",
    "2. 3 = 3(57 - 2(24)) - 1(24) = 3(57) - 7(<span style = color:red>24</span>)\n",
    "1. 3 = 3(57) - 7(81 - 1(57)) = 10(57) - 7(81)\n",
    "\n",
    "thus x, y = 10, -7"
   ]
  },
  {
   "cell_type": "code",
   "execution_count": 1,
   "metadata": {},
   "outputs": [
    {
     "name": "stdout",
     "output_type": "stream",
     "text": [
      "gcd: 1, u: 10245, v: -8404\n"
     ]
    }
   ],
   "source": [
    "def extended_euclidean(a, b):\n",
    "    # x and y are the coefficients that will be updated to store the result.\n",
    "    if b == 0:\n",
    "        x = 1\n",
    "        y = 0\n",
    "        return a, x, y  # Return gcd and coefficients\n",
    "    \n",
    "    gcd_val, x1, y1 = extended_euclidean(b, a % b)\n",
    "    x = y1\n",
    "    y = x1 - y1 * (a // b)\n",
    "    \n",
    "    return gcd_val, x, y\n",
    "\n",
    "p = 26513\n",
    "q = 32321\n",
    "\n",
    "gcd_val, u, v = extended_euclidean(p, q)\n",
    "print(f\"gcd: {gcd_val}, u: {u}, v: {v}\")"
   ]
  },
  {
   "cell_type": "markdown",
   "metadata": {},
   "source": [
    "## Modular Arithmetic I\n",
    "\n",
    "Modular arithmetic follows the concept of wrapping around. This visible when calculating time in both 12 nd 24 hour clock system where we move from 2359hrs to 0000hrs.\n",
    "\n",
    "Formally, \"calculating time\" is described by the theory of congruences. We say that two integers are congruent modulo `m` if `a ≡ b mod m` which can also mean that when we divide `a` by `m`, the reaminder is `b`. Thus if a is divisible by m then `a ≡ 0 mod m`.\n",
    "\n",
    "Calculating `x` and `y` for the cases below:\n",
    "1. 11 ≡ x mod 6\n",
    "2. 8146798528947 ≡ y mod 17"
   ]
  },
  {
   "cell_type": "code",
   "execution_count": 1,
   "metadata": {},
   "outputs": [
    {
     "name": "stdout",
     "output_type": "stream",
     "text": [
      "11 ≡ 5 mod 6\n",
      "8146798528947 ≡ 4 mod 17\n"
     ]
    }
   ],
   "source": [
    "def modular(a, mod):\n",
    "    # a == b modulo mod\n",
    "    return a % mod\n",
    "\n",
    "print(f\"11 ≡ {modular(11, 6)} mod 6\")\n",
    "print(f\"8146798528947 ≡ {modular(8146798528947, 17)} mod 17\")"
   ]
  }
 ],
 "metadata": {
  "kernelspec": {
   "display_name": "Python 3",
   "language": "python",
   "name": "python3"
  },
  "language_info": {
   "codemirror_mode": {
    "name": "ipython",
    "version": 3
   },
   "file_extension": ".py",
   "mimetype": "text/x-python",
   "name": "python",
   "nbconvert_exporter": "python",
   "pygments_lexer": "ipython3",
   "version": "3.12.6"
  }
 },
 "nbformat": 4,
 "nbformat_minor": 2
}
