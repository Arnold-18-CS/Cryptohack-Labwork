{
 "cells": [
  {
   "cell_type": "markdown",
   "metadata": {},
   "source": [
    "# MODULAR ARITHMETIC\n",
    "\n",
    "This is the foundation of mathematics of which all of public key cryptocraphy is built upon.\n",
    "\n",
    "Unlike integers which get bigger infinitely, modular arithmetic \"wraps around\" and returns back to zero. A good example is the 24 Hour clock system where after 23:59 we wrap around back to 00:00."
   ]
  },
  {
   "cell_type": "markdown",
   "metadata": {},
   "source": [
    "## Greatest Common Divisor\n",
    "\n",
    "This is the largest number which can divide 2 positive integers `a` and `b`.\n",
    "\n",
    "In the case that we are taking the GCD of 2 prime numbers, then `gcd(a,b) = 1` which implies that they are <span color = \"green\">coprime</span>. The 2 cases for which numbers are coprime are:\n",
    "1. Both numbers `a` and `b` are prime.\n",
    "2. `a` is prime and `b < a`.\n",
    "\n",
    "To calculate the gcd of 2 integers we can emply the Euclidean Algorithm.\n",
    "\n",
    "### Euclidean Algorithm\n",
    "\n",
    "Given 2 integers `a` and `b` where `a > b`, we can express `a/b` as `a = bq + r` where `q` is the quotient and `r` is the remainder.\n",
    "\n",
    "To calculate the GCD of 2 numbers using this algorithm we follow these steps:\n",
    "1. Express `gcd(a, b)` as `a/b`\n",
    "2. Express `a/b` as `a = bq + r`\n",
    "3. Replace `a,b` with `b,r` respectively\n",
    "4. Repeat steps 2 and 3 until `r = 0`\n",
    "5. `gcd(a, b)` is the last non-zero remainder or value of `b` in the last iteration.\n",
    "\n",
    "Example: Calculate the gcd of 252 and 105\n",
    "\n",
    "<span style = \"color:yellow\">\n",
    "\n",
    "gcd(252, 105) = > 252, 105\n",
    "\n",
    "\n",
    "Step 1: 252 = 105(2) + 42 => a = 252, b = 105, q = 2, r = 42\n",
    "\n",
    "Step 2: 104 = 42(2) + 21 => a = 105, b = 42, q = 2, r = 21\n",
    "\n",
    "Step 3: 42 = 21(2) + 0 => a = 42, b = 21, q = 2, r = 0\n",
    "\n",
    "Therefore, gcd(252, 105) = 21\n",
    "</span>\n"
   ]
  },
  {
   "cell_type": "markdown",
   "metadata": {},
   "source": [
    "We can express the steps shown above in Python as shown below"
   ]
  },
  {
   "cell_type": "code",
   "execution_count": 2,
   "metadata": {},
   "outputs": [
    {
     "name": "stdout",
     "output_type": "stream",
     "text": [
      "GCD of 12 and 8: 4\n"
     ]
    }
   ],
   "source": [
    "def euclidean_gcd(a,b):\n",
    "    while b != 0:\n",
    "        a,b = b, a % b\n",
    "        # return euclidean_gcd*(b, a % b)\n",
    "    return a\n",
    "\n",
    "a,b = 12, 8\n",
    "\n",
    "print(f\"GCD of {a} and {b}: {euclidean_gcd(a, b)}\")"
   ]
  },
  {
   "cell_type": "markdown",
   "metadata": {},
   "source": [
    "## Extended Euclidean Algorithm\n",
    "\n",
    "Assuming we have 2 positive integers `a` and `b`, the extended euclidean algorithm is an efficient way to find integers `x` and `y` such that:\n",
    "\n",
    "`a` * `x` + `b` * `y` = gcd(a, b)\n",
    "\n",
    "Steps\n",
    "1. let gcd(a, b) = g\n",
    "2. This implies that a = g, b = 0 as the results in the final iteration of Euclidean algorithm\n",
    "3. Rewritten: gx + by = g, thus g(1) + b(0) = g\n",
    "4. This implies that x1 = 1 and y1 = 0\n",
    "5. Recall that (a,b) = (b,r) = (b, a%b)\n",
    "6. Substitution into 3: b*x1 + (a%b)y1 = g\n",
    "7. let a%b = a - (a//b)b\n",
    "8. After subtitution, final solution is x = y1, y = x1 - (a//b)y1\n",
    "\n",
    "Example:\n",
    "Finding the gcd of 81 and 57 by the Euclidean Algorithm:\n",
    "\n",
    "0. 81 = 1(57) + 24\n",
    "1. 57 = 2(24) + 9\n",
    "2. 24 = 2(9) + 6\n",
    "3. 9 = 1(6) + 3\n",
    "4. 6 = 2(3) + 0.\n",
    "\n",
    "Reversing the steps to find our values `x` and `y`\n",
    "gcd(a, b) i.e r = a - qb\n",
    "\n",
    "4. 3 = 9 - 1(<span style = color:red>6</span>)\n",
    "3. 3 = 9 - 1(24 - 2(9)) = 3(<span style = color:red>9</span>) - 1(24)\n",
    "2. 3 = 3(57 - 2(24)) - 1(24) = 3(57) - 7(<span style = color:red>24</span>)\n",
    "1. 3 = 3(57) - 7(81 - 1(57)) = 10(57) - 7(81)\n",
    "\n",
    "thus x, y = 10, -7"
   ]
  },
  {
   "cell_type": "code",
   "execution_count": 1,
   "metadata": {},
   "outputs": [
    {
     "name": "stdout",
     "output_type": "stream",
     "text": [
      "gcd: 1, u: 10245, v: -8404\n"
     ]
    }
   ],
   "source": [
    "def extended_euclidean(a, b):\n",
    "    # x and y are the coefficients that will be updated to store the result.\n",
    "    if b == 0:\n",
    "        x = 1\n",
    "        y = 0\n",
    "        return a, x, y  # Return gcd and coefficients\n",
    "    \n",
    "    gcd_val, x1, y1 = extended_euclidean(b, a % b)\n",
    "    x = y1\n",
    "    y = x1 - y1 * (a // b)\n",
    "    \n",
    "    return gcd_val, x, y\n",
    "\n",
    "p = 26513\n",
    "q = 32321\n",
    "\n",
    "gcd_val, u, v = extended_euclidean(p, q)\n",
    "print(f\"gcd: {gcd_val}, u: {u}, v: {v}\")"
   ]
  },
  {
   "cell_type": "markdown",
   "metadata": {},
   "source": [
    "## Modular Arithmetic I\n",
    "\n",
    "Modular arithmetic follows the concept of wrapping around. This visible when calculating time in both 12 nd 24 hour clock system where we move from 2359hrs to 0000hrs.\n",
    "\n",
    "Formally, \"calculating time\" is described by the theory of congruences. We say that two integers are congruent modulo `m` if `a ≡ b mod m` which can also mean that when we divide `a` by `m`, the reaminder is `b`. Thus if a is divisible by m then `a ≡ 0 mod m`.\n",
    "\n",
    "Calculating `x` and `y` for the cases below:\n",
    "1. 11 ≡ x mod 6\n",
    "2. 8146798528947 ≡ y mod 17"
   ]
  },
  {
   "cell_type": "code",
   "execution_count": 1,
   "metadata": {},
   "outputs": [
    {
     "name": "stdout",
     "output_type": "stream",
     "text": [
      "11 ≡ 5 mod 6\n",
      "8146798528947 ≡ 4 mod 17\n"
     ]
    }
   ],
   "source": [
    "def modular(a, mod):\n",
    "    # a == b modulo mod\n",
    "    return a % mod\n",
    "\n",
    "print(f\"11 ≡ {modular(11, 6)} mod 6\")\n",
    "print(f\"8146798528947 ≡ {modular(8146798528947, 17)} mod 17\")"
   ]
  },
  {
   "cell_type": "markdown",
   "metadata": {},
   "source": [
    "## Modular Arithmetic 2\n",
    "\n",
    "If we pick a prime modulus `p`, the integers modulo `p` define a field `Fp`, whereas if modulus is not prime then the integers modulo `p` define a ring.\n",
    "\n",
    "A finite field `Fp` is the set of integers 0,1,...,p-1 and under both addition and muliplication there are inverse elements b+ and b* for every element `a` in the set such that `a + b = 0` and `a . b* = 1`\n",
    "\n",
    "### Fermat's Little Theorem\n",
    "This is an interesting theorem that will be needed for RSA cryptography.\n",
    "\n",
    "1. `a**p == a mod p` iff `p` is prime\n",
    "2. `a**(p-1) == 1 mod p` iff `a` and `p` are coprime\n",
    "\n",
    "Now take the prime `p`= 65537. Calculate 273246787654 ^ 65536 mod 65537\n"
   ]
  },
  {
   "cell_type": "code",
   "execution_count": 2,
   "metadata": {},
   "outputs": [
    {
     "name": "stdout",
     "output_type": "stream",
     "text": [
      "1\n"
     ]
    }
   ],
   "source": [
    "print(modular(273246787654**65536, 65537))"
   ]
  },
  {
   "cell_type": "markdown",
   "metadata": {},
   "source": [
    "## Modular Inverting - Using Fermat's Little Theorem\n",
    "\n",
    "Working in a finite field `Fp`, adding and multiplying elements always gives us another elelment within the field. For all elements `g` in the field, there exists a unique integer `d` such that `g.d ≡ 1 mod p`. `d` is thus the multiplicative inverse of `g`. \n",
    "\n",
    "Example:\n",
    "7 ⋅ 8 = 56 ≡ 1 mod 11\n",
    "\n",
    "### Fermat's Little Theorem Continuation\n",
    "If `p` i a prime number, then for any integer `a`, the number `(a^p) - a` is an integer multiple of `p` i.e `a**p == a mod p`.65537\n",
    "\n",
    "Example: if a=2, p=7 then (2^7) = 128, 128 - 2 = 126 = 7 * 18 i.e a multiple of 7\n",
    "\n",
    "If `a` is not divisible by `p`, i.e `a` and `p` are coprime, then `a^(p-1) - 1` is an integer multiple of `p`.\n",
    "\n",
    "1. `a^(p-1) - 1 ≡ 0 mod p` thus\n",
    "2. `a^(p-1) ≡ 1 mod p` thus\n",
    "3. `a^(p-1) ≡ a^0 mod p`\n",
    "4. `a^(p) ≡ a mod p`\n",
    "\n",
    "Using this relationship, we can deduce that to calculate the modular inverse of `a` modulus `p` to discover that `a^(p-2) ≡ a^(-1) mod p`\n",
    "\n",
    "Using this deduction we can solve the qusetion: What is the inverse element `d` = 3^(-1) such that `3 * d ≡ 1 mod 13.`\n"
   ]
  },
  {
   "cell_type": "code",
   "execution_count": 3,
   "metadata": {},
   "outputs": [
    {
     "name": "stdout",
     "output_type": "stream",
     "text": [
      "Modular inverse of 3 mod 13 is 9\n"
     ]
    }
   ],
   "source": [
    "def fermats_inverse(a, p):\n",
    "    # d = a ** (p-2) % p\n",
    "    return pow(a, p-2, p)\n",
    "\n",
    "a,p = 3,13\n",
    "print(f\"Modular inverse of {a} mod {p} is {fermats_inverse(a,p)}\")"
   ]
  },
  {
   "cell_type": "markdown",
   "metadata": {},
   "source": [
    "## Modulo Square Root and Quadratic Residues\n",
    "\n",
    "We can also calculate the square root of `a` usig modular arithmetic. For example: if `a=11` and `p=29` then `a^2 = 5 mod 29`. Thus as `a=11, a^2=5`,we can say that the square root of 5 is 11.\n",
    "\n",
    "For some `a` in `Fp` we never find an `a` such that `a^2` exists e.g for 18. This means that not every element in  `Fp` has a square root, specifically for roughly half of elements in `Fp`, there is no square root.\n",
    "\n",
    "We say yhay an integer `x` is a **quadraric residue** if there exists an `a` such that `a^2 ≡ x mod p` i.e when its square root exists. If there is no such solution, then the integer is a **quadratic non-residue**.\n",
    "\n",
    "Confirm if the following integers `ints = [14,6,11]` are quadratic residues and then calculate its square root."
   ]
  },
  {
   "cell_type": "code",
   "execution_count": 6,
   "metadata": {},
   "outputs": [
    {
     "name": "stdout",
     "output_type": "stream",
     "text": [
      "14 is a quadratic non residue\n",
      "None\n",
      "\n",
      "8\n",
      "\n",
      "11 is a quadratic non residue\n",
      "None\n",
      "\n"
     ]
    }
   ],
   "source": [
    "def modulo_sqrt(x, p):\n",
    "    # a^2 ≡ x mod p\n",
    "    for a in range(1,p-1):\n",
    "        if pow(a,2,p) == x%p:\n",
    "            return a\n",
    "    print(f\"{x} is a quadratic non residue\")\n",
    "    \n",
    "ints = [14,6,11]\n",
    "p = 29\n",
    "\n",
    "for i in ints:\n",
    "    print(modulo_sqrt(i, p))\n",
    "    print()"
   ]
  },
  {
   "cell_type": "markdown",
   "metadata": {},
   "source": [
    "This implies that 6 is a quadratic residue whose square root modulus 29 is 8"
   ]
  },
  {
   "cell_type": "markdown",
   "metadata": {},
   "source": [
    "## Legendre's Symbol\n",
    "\n",
    "QR = +, QNR = -\n",
    " Quadratic Residue * Quadratic Residue = Quadratic Residue\n",
    " Quadratic Residue * Quadratic Non-residue = Quadratic Non-residue\n",
    " Quadratic Non-residue * Quadratic Non-residue = Quadratic Residue\n",
    "\n",
    "Legendre's symbol gives us an easy way to determine whether an integer is a quadratic residue modulo an odd prime `p`.\n",
    "\n",
    " (a/p) ≡ a^(p−1)/2 mod p obeys\n",
    "\n",
    " 1. (a/p) = 1 if a is a QR and a!=0 mod p\n",
    " 2. (a/p) = -1 if a is a QNR mod p\n",
    " 3. (a/p) = 0 if a == 0 mod p\n"
   ]
  },
  {
   "cell_type": "markdown",
   "metadata": {},
   "source": [
    "## Chinese Remainder Theorem"
   ]
  },
  {
   "cell_type": "code",
   "execution_count": 2,
   "metadata": {},
   "outputs": [
    {
     "name": "stdout",
     "output_type": "stream",
     "text": [
      "872\n",
      "-------------------------------\n"
     ]
    }
   ],
   "source": [
    "def fermat_modular_inverse(x, mod):\n",
    "    # return (x ** (mod-2) % mod)\n",
    "    return pow(x, mod - 2, mod )\n",
    "\n",
    "# Chinese Remainder Theorem\n",
    "# Compute M = product(m1,...,mn)\n",
    "# Compute Mi for each mi by M/mi\n",
    "# Compute multiplicative inverse yi: Mi * yi = 1 mod mi\n",
    "# Compute solution x = sum over i(ai * Mi * yi) mod M\n",
    "\n",
    "# reminder, x = a mod n\n",
    "def crt(a,m):\n",
    "    M = 1\n",
    "    for i in m: M *= i\n",
    "\n",
    "    # Compute Mi\n",
    "    Mi = [M // m[i] for i in range(len(m))]\n",
    "\n",
    "    # Get all y values\n",
    "    # yi: Mi * yi = 1 mod mi\n",
    "    # y = [pow(Mi[i],Mi[i]-2,m[i]) for i in range(len(m))]\n",
    "    y = [fermat_modular_inverse(Mi[i], m[i]) for i in range(len(m))]\n",
    "\n",
    "    # x = ai * Mi * yi + ... an * Mn * yn   \n",
    "    x = 0\n",
    "    for i in range(len(m)): x += a[i]*Mi[i]*y[i]\n",
    "    \n",
    "    # Get the unique solution\n",
    "    x %= M\n",
    "    return x\n",
    "\n",
    "a = [2,3,5]\n",
    "m = [5,11,17]\n",
    "print(crt(a,m))\n",
    "\n",
    "print(\"-------------------------------\")"
   ]
  },
  {
   "cell_type": "markdown",
   "metadata": {},
   "source": [
    "## Adrien's Signs"
   ]
  },
  {
   "cell_type": "code",
   "execution_count": 4,
   "metadata": {},
   "outputs": [
    {
     "name": "stdout",
     "output_type": "stream",
     "text": [
      "crypto{p4tterns_1n_re5idu3s}\n"
     ]
    }
   ],
   "source": [
    "from random import randint\n",
    "\n",
    "a = 288260533169915\n",
    "p = 1007621497415251\n",
    "\n",
    "FLAG = b'crypto{????????????????????}'\n",
    "\n",
    "\n",
    "def encrypt_flag(flag):\n",
    "    ciphertext = []\n",
    "    plaintext = ''.join([bin(i)[2:].zfill(8) for i in flag])\n",
    "    for b in plaintext:\n",
    "        e = randint(1, p)\n",
    "        n = pow(a, e, p)\n",
    "        if b == '1':\n",
    "            ciphertext.append(n)\n",
    "        else:\n",
    "            n = -n % p\n",
    "            ciphertext.append(n)\n",
    "    return ciphertext\n",
    "\n",
    "\n",
    "# print(encrypt_flag(FLAG))\n",
    "\n",
    "ciphertext = [67594220461269, 501237540280788, 718316769824518, 296304224247167, 48290626940198, 30829701196032, 521453693392074, 840985324383794, 770420008897119, 745131486581197, 729163531979577, 334563813238599, 289746215495432, 538664937794468, 894085795317163, 983410189487558, 863330928724430, 996272871140947, 352175210511707, 306237700811584, 631393408838583, 589243747914057, 538776819034934, 365364592128161, 454970171810424, 986711310037393, 657756453404881, 388329936724352, 90991447679370, 714742162831112, 62293519842555, 653941126489711, 448552658212336, 970169071154259, 339472870407614, 406225588145372, 205721593331090, 926225022409823, 904451547059845, 789074084078342, 886420071481685, 796827329208633, 433047156347276, 21271315846750, 719248860593631, 534059295222748, 879864647580512, 918055794962142, 635545050939893, 319549343320339, 93008646178282, 926080110625306, 385476640825005, 483740420173050, 866208659796189, 883359067574584, 913405110264883, 898864873510337, 208598541987988, 23412800024088, 911541450703474, 57446699305445, 513296484586451, 180356843554043, 756391301483653, 823695939808936, 452898981558365, 383286682802447, 381394258915860, 385482809649632, 357950424436020, 212891024562585, 906036654538589, 706766032862393, 500658491083279, 134746243085697, 240386541491998, 850341345692155, 826490944132718, 329513332018620, 41046816597282, 396581286424992, 488863267297267, 92023040998362, 529684488438507, 925328511390026, 524897846090435, 413156582909097, 840524616502482, 325719016994120, 402494835113608, 145033960690364, 43932113323388, 683561775499473, 434510534220939, 92584300328516, 763767269974656, 289837041593468, 11468527450938, 628247946152943, 8844724571683, 813851806959975, 72001988637120, 875394575395153, 70667866716476, 75304931994100, 226809172374264, 767059176444181, 45462007920789, 472607315695803, 325973946551448, 64200767729194, 534886246409921, 950408390792175, 492288777130394, 226746605380806, 944479111810431, 776057001143579, 658971626589122, 231918349590349, 699710172246548, 122457405264610, 643115611310737, 999072890586878, 203230862786955, 348112034218733, 240143417330886, 927148962961842, 661569511006072, 190334725550806, 763365444730995, 516228913786395, 846501182194443, 741210200995504, 511935604454925, 687689993302203, 631038090127480, 961606522916414, 138550017953034, 932105540686829, 215285284639233, 772628158955819, 496858298527292, 730971468815108, 896733219370353, 967083685727881, 607660822695530, 650953466617730, 133773994258132, 623283311953090, 436380836970128, 237114930094468, 115451711811481, 674593269112948, 140400921371770, 659335660634071, 536749311958781, 854645598266824, 303305169095255, 91430489108219, 573739385205188, 400604977158702, 728593782212529, 807432219147040, 893541884126828, 183964371201281, 422680633277230, 218817645778789, 313025293025224, 657253930848472, 747562211812373, 83456701182914, 470417289614736, 641146659305859, 468130225316006, 46960547227850, 875638267674897, 662661765336441, 186533085001285, 743250648436106, 451414956181714, 527954145201673, 922589993405001, 242119479617901, 865476357142231, 988987578447349, 430198555146088, 477890180119931, 844464003254807, 503374203275928, 775374254241792, 346653210679737, 789242808338116, 48503976498612, 604300186163323, 475930096252359, 860836853339514, 994513691290102, 591343659366796, 944852018048514, 82396968629164, 152776642436549, 916070996204621, 305574094667054, 981194179562189, 126174175810273, 55636640522694, 44670495393401, 74724541586529, 988608465654705, 870533906709633, 374564052429787, 486493568142979, 469485372072295, 221153171135022, 289713227465073, 952450431038075, 107298466441025, 938262809228861, 253919870663003, 835790485199226, 655456538877798, 595464842927075, 191621819564547]\n",
    "\n",
    "def decrypt_flag(ciphertext,p):\n",
    "    plaintext = []\n",
    "\n",
    "    # Recover plaintext as bits\n",
    "    for n in ciphertext:\n",
    "        # 0 bits have been encoded as positive values that are very large i.e after wrapping aroud mod\n",
    "        # 1 bits are small values \n",
    "        if pow(n, p//2, p) == 1:\n",
    "            plaintext.append('1')\n",
    "        else:\n",
    "            plaintext.append('0')\n",
    "\n",
    "    # Converts bits to byte flag\n",
    "    binary_string = ''.join(plaintext)\n",
    "    byte_string = [binary_string[i:i+8] for i in range(0, len(binary_string), 8)]\n",
    "\n",
    "    # Convert bytes to ASCII representation\n",
    "    flag = ''.join([chr(int(byte, 2))for byte in byte_string])\n",
    "\n",
    "    return flag\n",
    "\n",
    "print(decrypt_flag(ciphertext, p))\n",
    "\n",
    "        "
   ]
  },
  {
   "cell_type": "markdown",
   "metadata": {},
   "source": [
    "## Modular Binomials"
   ]
  },
  {
   "cell_type": "code",
   "execution_count": 5,
   "metadata": {},
   "outputs": [
    {
     "name": "stdout",
     "output_type": "stream",
     "text": [
      "p: 112274000169258486390262064441991200608556376127408952701514962644340921899196091557519382763356534106376906489445103255177593594898966250176773605432765983897105047795619470659157057093771407309168345670541418772427807148039207489900810013783673957984006269120652134007689272484517805398390277308001719431273, q: 132760587806365301971479157072031448380135765794466787456948786731168095877956875295282661565488242190731593282663694728914945967253173047324353981530949360031535707374701705328450856944598803228299967009004598984671293494375599408764139743217465012770376728876547958852025425539298410751132782632817947101601,\n",
      "\n",
      "\n",
      "crypto112274000169258486390262064441991200608556376127408952701514962644340921899196091557519382763356534106376906489445103255177593594898966250176773605432765983897105047795619470659157057093771407309168345670541418772427807148039207489900810013783673957984006269120652134007689272484517805398390277308001719431273,132760587806365301971479157072031448380135765794466787456948786731168095877956875295282661565488242190731593282663694728914945967253173047324353981530949360031535707374701705328450856944598803228299967009004598984671293494375599408764139743217465012770376728876547958852025425539298410751132782632817947101601\n",
      "------------------------------------------------\n"
     ]
    }
   ],
   "source": [
    "# Modular Binomials\n",
    "# In the form x = [(a + b ) ^ e]mod n\n",
    "# The modular binomial problem can have the following form\n",
    "# c1=(a1⋅p+b1⋅q)e1modN\n",
    "# c2=(a2⋅p+b2⋅q)e2modN\n",
    "# and N = p*q and all except p and q are known\n",
    "\n",
    "# We can get the values of p and q by:\n",
    "# Upper ci using exponent of ci+1: Making c1 and c2 have the same exponent e1*e2\n",
    "# Isolate q by making both sides have same p value\n",
    "# How: Multiply ci by a^(-e1e2) thus p factor reduced to 1\n",
    "# A = c2 - c1 such that A has an isolated factor q\n",
    "# A = a2^(-e1e2)*c2^(e1) - a1^(-e1e2)*c1^(e2) mod N\n",
    "# q = gcd(A,N) as q is a common factor\n",
    "# p = N/q\n",
    "\n",
    "def euclidean_gcd(a,b):\n",
    "    while b != 0:\n",
    "        a,b = b, a % b\n",
    "        # return euclidean_gcd*(b, a % b)\n",
    "    return a\n",
    "\n",
    "def modular_binomials(c1,c2,a1,a2,e1,e2,N):\n",
    "    A = pow(a2,(-e1*e2),N) * pow(c2,(e1),N) - pow(a1,(-e1*e2),N) * pow(c1,(e2),N)\n",
    "    q = euclidean_gcd(A,N)\n",
    "    p = N//q\n",
    "    return f\"p: {p}, q: {q},\\n\\n\\ncrypto{p},{q}\" if p*q == N else \"Couldn't find binomial\"\n",
    "\n",
    "# # Rearrange the following equations to get the primes p,q\n",
    "# # N = p * q\n",
    "# # c1=(2⋅p+3⋅q)e1 mod N\n",
    "# # c2=(5p+7q)e2 modN\n",
    "\n",
    "N = 14905562257842714057932724129575002825405393502650869767115942606408600343380327866258982402447992564988466588305174271674657844352454543958847568190372446723549627752274442789184236490768272313187410077124234699854724907039770193680822495470532218905083459730998003622926152590597710213127952141056029516116785229504645179830037937222022291571738973603920664929150436463632305664687903244972880062028301085749434688159905768052041207513149370212313943117665914802379158613359049957688563885391972151218676545972118494969247440489763431359679770422939441710783575668679693678435669541781490217731619224470152467768073\n",
    "e1 = 12886657667389660800780796462970504910193928992888518978200029826975978624718627799215564700096007849924866627154987365059524315097631111242449314835868137\n",
    "e2 = 12110586673991788415780355139635579057920926864887110308343229256046868242179445444897790171351302575188607117081580121488253540215781625598048021161675697\n",
    "c1 = 14010729418703228234352465883041270611113735889838753433295478495763409056136734155612156934673988344882629541204985909650433819205298939877837314145082403528055884752079219150739849992921393509593620449489882380176216648401057401569934043087087362272303101549800941212057354903559653373299153430753882035233354304783275982332995766778499425529570008008029401325668301144188970480975565215953953985078281395545902102245755862663621187438677596628109967066418993851632543137353041712721919291521767262678140115188735994447949166616101182806820741928292882642234238450207472914232596747755261325098225968268926580993051\n",
    "c2 = 14386997138637978860748278986945098648507142864584111124202580365103793165811666987664851210230009375267398957979494066880296418013345006977654742303441030008490816239306394492168516278328851513359596253775965916326353050138738183351643338294802012193721879700283088378587949921991198231956871429805847767716137817313612304833733918657887480468724409753522369325138502059408241232155633806496752350562284794715321835226991147547651155287812485862794935695241612676255374480132722940682140395725089329445356434489384831036205387293760789976615210310436732813848937666608611803196199865435145094486231635966885932646519\n",
    "a1, a2 = 2, 5\n",
    "\n",
    "print(modular_binomials(c1,c2,a1,a2,e1,e2,N))\n",
    "\n",
    "print(\"------------------------------------------------\")\n"
   ]
  }
 ],
 "metadata": {
  "kernelspec": {
   "display_name": "Python 3",
   "language": "python",
   "name": "python3"
  },
  "language_info": {
   "codemirror_mode": {
    "name": "ipython",
    "version": 3
   },
   "file_extension": ".py",
   "mimetype": "text/x-python",
   "name": "python",
   "nbconvert_exporter": "python",
   "pygments_lexer": "ipython3",
   "version": "3.12.6"
  }
 },
 "nbformat": 4,
 "nbformat_minor": 2
}
