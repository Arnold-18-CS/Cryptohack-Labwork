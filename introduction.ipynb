{
 "cells": [
  {
   "cell_type": "markdown",
   "metadata": {},
   "source": [
    "# INTRODUCTION TO CRYPTOHACK\n"
   ]
  },
  {
   "cell_type": "markdown",
   "metadata": {},
   "source": [
    "## ASCII Encoding\n",
    "\n",
    "ASCII is a 7-bit encoding standard that allows us to represent text using integers between 0 and 127.\n",
    "\n",
    "In python we, use 2 predefined functions to convert to and from ASCII coding.\n",
    "1. `chr()`: converts an ASCII ordinal number to a character\n",
    "2. `ord()`: converts a character to an ASCII ordinal number\n",
    "\n",
    "An example below shows how this can be used."
   ]
  },
  {
   "cell_type": "code",
   "execution_count": 43,
   "metadata": {},
   "outputs": [
    {
     "name": "stdout",
     "output_type": "stream",
     "text": [
      "crypto{ASCII_pr1nt4bl3}\n",
      "---------------------------\n"
     ]
    }
   ],
   "source": [
    "# Given the following array of numbers, decode the text\n",
    "ords = [99, 114, 121, 112, 116, 111, 123, 65, 83, 67, 73, 73, 95, 112, 114, 49, 110, 116, 52, 98, 108, 51, 125]\n",
    "\n",
    "# From ASCII to Unicode, we use chr()\n",
    "print(\"\".join(chr(ord) for ord in ords))\n",
    "print(\"---------------------------\")"
   ]
  },
  {
   "cell_type": "markdown",
   "metadata": {},
   "source": [
    "## Hex Encoding\n",
    "\n",
    "Ciphertexts may end up having bytes that are not printable ASCII characters, for example: Nul is escaped as \\0, Tab is escaped as \\t, Line feed is escaped as \\n.\n",
    "Thus to share the encrypted data it is common to encode it into something more portable across different systems. This is where **Hex Encoding** comes in.\n",
    "\n",
    "Hexadecimal can be used to represent ASCII strings by:\n",
    "1. Converting each letter to an ordinal number according to the ASCII table.\n",
    "2. Decimal numbers are then converted to base-16 / hexadecimal numbers.\n",
    "3. Combine each result into one long hex string\n",
    "\n",
    "In Python we use 2 predefinedd functions to carry out the encoding and decoding:\n",
    "1. `bytes.fromhex()`: converts our parameter from hex to bytes.\n",
    "2. `.hex()`: called on byte strings to ge the hex representation.\n",
    "\n",
    "An example below shows how to use this."
   ]
  },
  {
   "cell_type": "code",
   "execution_count": 44,
   "metadata": {},
   "outputs": [
    {
     "name": "stdout",
     "output_type": "stream",
     "text": [
      "b'crypto{You_will_be_working_with_hex_strings_a_lot}'\n"
     ]
    }
   ],
   "source": [
    "# Decoding a given hex string \n",
    "hex_string1 = \"63727970746f7b596f755f77696c6c5f62655f776f726b696e675f776974685f6865785f737472696e67735f615f6c6f747d\"\n",
    "decoded_hex1 = bytes.fromhex(hex_string1)\n",
    "\n",
    "print(decoded_hex1)"
   ]
  },
  {
   "cell_type": "markdown",
   "metadata": {},
   "source": [
    "## Base64 Encoding\n",
    "\n",
    "This encoding method allows us to represent binary data (in bits/bytes) as an ASCII string using an alphabet of 64 characters.\n",
    "\n",
    "One character of Base64 string encodes 6 bits, thus 4 characters encodes 3 bytes.\n",
    "\n",
    "Base64 is commonly used online to encode images into HTML or CSS files.\n",
    "\n",
    "In Python, after importing the Base64 module (`import base64`), you can use functions to encode and decode:\n",
    "1. `base64.b64encode()`: to encode given binary data to Base64 string\n",
    "\n",
    "An example shows how to use this"
   ]
  },
  {
   "cell_type": "code",
   "execution_count": 45,
   "metadata": {},
   "outputs": [
    {
     "name": "stdout",
     "output_type": "stream",
     "text": [
      "b'r\\xbc\\xa9\\xb6\\x8f\\xc1j\\xc7\\xbe\\xeb\\x8f\\x84\\x9d\\xca\\x1d\\x8ax>\\x8a\\xcf\\x96y\\xbf\\x92i\\xf7\\xbf'\n",
      "b'crypto/Base+64+Encoding+is+Web+Safe/'\n"
     ]
    }
   ],
   "source": [
    "hex_string2 = \"72bca9b68fc16ac7beeb8f849dca1d8a783e8acf9679bf9269f7bf\"\n",
    "byte_string2 = bytes.fromhex(hex_string2)\n",
    "print(byte_string2)\n",
    "\n",
    "import base64\n",
    "base64_string = base64.b64encode(byte_string2)\n",
    "\n",
    "print(base64_string)"
   ]
  },
  {
   "cell_type": "markdown",
   "metadata": {},
   "source": [
    "## Making a text RSA enabled\n",
    "\n",
    "RSA works on numbers, but messages are made up of characters thus we need to convert our messages into numbers so that mathematical operations can be carried out on them.\n",
    "\n",
    "The most common way to do is to:\n",
    "1. Convert message to ordinal bytes\n",
    "2. Convert ordinal to hexadecimal\n",
    "3. Concatenate into hex string\n",
    "4. Represent hex string as decimal number\n",
    "\n",
    "Illustration\n",
    "<span color = 'yellow'>\n",
    "message: HELLO\n",
    "ascii bytes: [72, 69, 76, 76, 79]\n",
    "hex bytes: [0x48, 0x45, 0x4c, 0x4c, 0x4f]\n",
    "base-16: 0x48454c4c4f\n",
    "base-10: 310400273487\n",
    "</span>\n",
    "\n",
    "In Python, we can use the following functions from PyCryptodome to carry out this whole operation:\n",
    "1. `bytes_to_long()`: convert our bytes to integer\n",
    "2. `long_to_bytes()`: convert our integers to bytes\n",
    "\n",
    "Example\n",
    "\n"
   ]
  },
  {
   "cell_type": "code",
   "execution_count": 46,
   "metadata": {},
   "outputs": [
    {
     "name": "stdout",
     "output_type": "stream",
     "text": [
      "b'crypto{3nc0d1n6_4ll_7h3_w4y_d0wn}'\n"
     ]
    }
   ],
   "source": [
    "# Given the integer below, find the message encrypted\n",
    "int_message =  11515195063862318899931685488813747395775516287289682636499965282714637259206269\n",
    "\n",
    "from Crypto.Util.number import *\n",
    "decoded_message = long_to_bytes(int_message)\n",
    "print(decoded_message)"
   ]
  },
  {
   "attachments": {
    "image.png": {
     "image/png": "[encoded data removed]"
    }
   },
   "cell_type": "markdown",
   "metadata": {},
   "source": [
    "## XOR operations\n",
    "\n",
    "XOR is a bitwise operator denoted by ⊕ mathematically, `^` otherwise. Its truth table is as shown below. \n",
    "\n",
    "![XOR Truth Table](attachment:image.png)\n",
    "\n",
    "To use this on integers, convert the decimal to binary then XOR while on strings, convert each character to integer representing the Unicode character then XOR.\n",
    "\n",
    "In Python, we can use the caret `^` or use the `xor()` function from `pwntools` library.\n",
    "\n",
    "Example"
   ]
  },
  {
   "cell_type": "code",
   "execution_count": 47,
   "metadata": {},
   "outputs": [
    {
     "name": "stdout",
     "output_type": "stream",
     "text": [
      "aloha\n"
     ]
    }
   ],
   "source": [
    "# XOR 'label' with 13\n",
    "string = \"label\"\n",
    "key = 13\n",
    "\n",
    "def xor_string_key(string, key):\n",
    "    ascii_string = [ord(letter) for letter in string]\n",
    "    encoded_ascii = [char ^ key for char in ascii_string]\n",
    "    encoded_string = \"\".join([chr(char) for char in encoded_ascii])\n",
    "    return encoded_string\n",
    "\n",
    "print(xor_string_key(string, key))"
   ]
  },
  {
   "cell_type": "markdown",
   "metadata": {},
   "source": [
    "## Challenge 1\n",
    "\n",
    "Some data has been hidden using XOR within a single byte, but that byte is a secret."
   ]
  },
  {
   "cell_type": "code",
   "execution_count": 65,
   "metadata": {},
   "outputs": [
    {
     "data": {
      "text/plain": [
       "'crypto{0x10_15_my_f4v0ur173_by7e}'"
      ]
     },
     "execution_count": 65,
     "metadata": {},
     "output_type": "execute_result"
    }
   ],
   "source": [
    "\n",
    "# Using brute force to find the string, since we that the text contains \"crytpo\"\n",
    "def decoder(encoded):\n",
    "    byte_data = bytes.fromhex(encoded)\n",
    "    for secret in range(0, 255):\n",
    "        ascii_data = [char for char in byte_data]\n",
    "        decoded = \"\".join([chr(secret ^ i) for i in ascii_data])\n",
    "\n",
    "        if \"crypto\" in decoded:\n",
    "            answer = decoded\n",
    "            return answer\n",
    "\n",
    "encoded = \"73626960647f6b206821204f21254f7d694f7624662065622127234f726927756d\"\n",
    "decoder(encoded)"
   ]
  },
  {
   "cell_type": "markdown",
   "metadata": {},
   "source": [
    "## Challenge 2\n",
    "\n",
    "Flag has been encrypted with secret key"
   ]
  },
  {
   "cell_type": "code",
   "execution_count": 67,
   "metadata": {},
   "outputs": [],
   "source": [
    "encrypted_flag = \"0e0b213f26041e480b26217f27342e175d0e070a3c5b103e2526217f27342e175d0e077e263451150104\"\n",
    "\n",
    "decoder(encrypted_flag)"
   ]
  }
 ],
 "metadata": {
  "kernelspec": {
   "display_name": "Python 3",
   "language": "python",
   "name": "python3"
  },
  "language_info": {
   "codemirror_mode": {
    "name": "ipython",
    "version": 3
   },
   "file_extension": ".py",
   "mimetype": "text/x-python",
   "name": "python",
   "nbconvert_exporter": "python",
   "pygments_lexer": "ipython3",
   "version": "3.12.6"
  }
 },
 "nbformat": 4,
 "nbformat_minor": 2
}
