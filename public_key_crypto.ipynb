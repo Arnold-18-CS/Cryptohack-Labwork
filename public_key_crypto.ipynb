{
 "cells": [
  {
   "cell_type": "markdown",
   "metadata": {},
   "source": [
    "# PUBLIC KEY CRYPTOGRAPHY"
   ]
  },
  {
   "cell_type": "markdown",
   "metadata": {},
   "source": [
    "## Modular Exponentiation"
   ]
  },
  {
   "cell_type": "markdown",
   "metadata": {},
   "source": [
    "101**17 mod 2263"
   ]
  },
  {
   "cell_type": "code",
   "execution_count": 2,
   "metadata": {},
   "outputs": [
    {
     "name": "stdout",
     "output_type": "stream",
     "text": [
      "19906\n"
     ]
    }
   ],
   "source": [
    "print(pow(101,17,22663))"
   ]
  },
  {
   "cell_type": "markdown",
   "metadata": {},
   "source": [
    "## Public Keys\n",
    "\n",
    "c=m**e mod N\n",
    "\n",
    "N = p* q"
   ]
  },
  {
   "cell_type": "code",
   "execution_count": 4,
   "metadata": {},
   "outputs": [
    {
     "data": {
      "text/plain": [
       "301"
      ]
     },
     "execution_count": 4,
     "metadata": {},
     "output_type": "execute_result"
    }
   ],
   "source": [
    "# Given values\n",
    "m = 12\n",
    "e = 65537\n",
    "p = 17\n",
    "q = 23\n",
    "N = p * q  # Compute N\n",
    "\n",
    "# Encrypt the message\n",
    "ciphertext = pow(m, e, N)\n",
    "ciphertext\n"
   ]
  },
  {
   "cell_type": "markdown",
   "metadata": {},
   "source": [
    "## Euler's Totient"
   ]
  },
  {
   "cell_type": "code",
   "execution_count": 5,
   "metadata": {},
   "outputs": [
    {
     "data": {
      "text/plain": [
       "882564595536224140639625987657529300394956519977044270821168"
      ]
     },
     "execution_count": 5,
     "metadata": {},
     "output_type": "execute_result"
    }
   ],
   "source": [
    "# Given values\n",
    "p = 857504083339712752489993810777\n",
    "q = 1029224947942998075080348647219\n",
    "\n",
    "# Calculate Euler's totient\n",
    "phi_N = (p - 1) * (q - 1)\n",
    "phi_N\n"
   ]
  },
  {
   "cell_type": "markdown",
   "metadata": {},
   "source": [
    "## Private Keys"
   ]
  },
  {
   "cell_type": "code",
   "execution_count": 6,
   "metadata": {},
   "outputs": [
    {
     "name": "stdout",
     "output_type": "stream",
     "text": [
      "121832886702415731577073962957377780195510499965398469843281\n"
     ]
    }
   ],
   "source": [
    "p = 857504083339712752489993810777\n",
    "q = 1029224947942998075080348647219\n",
    "\n",
    "N = (p-1)*(q-1)\n",
    "e = 65537\n",
    "d = 0\n",
    "\n",
    "d = pow(e,-1,N)\n",
    "\n",
    "print(d)"
   ]
  },
  {
   "cell_type": "markdown",
   "metadata": {},
   "source": [
    "## RSA Decryption"
   ]
  },
  {
   "cell_type": "code",
   "execution_count": 7,
   "metadata": {},
   "outputs": [
    {
     "name": "stdout",
     "output_type": "stream",
     "text": [
      "13371337\n"
     ]
    }
   ],
   "source": [
    "# Given values for decryption\n",
    "N = 882564595536224140639625987659416029426239230804614613279163\n",
    "d = 121832886702415731577073962957377780195510499965398469843281\n",
    "c = 77578995801157823671636298847186723593814843845525223303932\n",
    "\n",
    "# Decrypting the ciphertext\n",
    "m = pow(c, d, N)\n",
    "print(m)"
   ]
  },
  {
   "cell_type": "markdown",
   "metadata": {},
   "source": [
    "## RSA Signatures"
   ]
  },
  {
   "cell_type": "code",
   "execution_count": 8,
   "metadata": {},
   "outputs": [
    {
     "name": "stdout",
     "output_type": "stream",
     "text": [
      "13480738404590090803339831649238454376183189744970683129909766078877706583282422686710545217275797376709672358894231550335007974983458408620258478729775647818876610072903021235573923300070103666940534047644900475773318682585772698155617451477448441198150710420818995347235921111812068656782998168064960965451719491072569057636701190429760047193261886092862024118487826452766513533860734724124228305158914225250488399673645732882077575252662461860972889771112594906884441454355959482925283992539925713424132009768721389828848907099772040836383856524605008942907083490383109757406940540866978237471686296661685839083475\n"
     ]
    }
   ],
   "source": [
    "from Crypto.Util.number import bytes_to_long,long_to_bytes\n",
    "from hashlib import sha256\n",
    "\n",
    "N = 15216583654836731327639981224133918855895948374072384050848479908982286890731769486609085918857664046075375253168955058743185664390273058074450390236774324903305663479046566232967297765731625328029814055635316002591227570271271445226094919864475407884459980489638001092788574811554149774028950310695112688723853763743238753349782508121985338746755237819373178699343135091783992299561827389745132880022259873387524273298850340648779897909381979714026837172003953221052431217940632552930880000919436507245150726543040714721553361063311954285289857582079880295199632757829525723874753306371990452491305564061051059885803\n",
    "d = 11175901210643014262548222473449533091378848269490518850474399681690547281665059317155831692300453197335735728459259392366823302405685389586883670043744683993709123180805154631088513521456979317628012721881537154107239389466063136007337120599915456659758559300673444689263854921332185562706707573660658164991098457874495054854491474065039621922972671588299315846306069845169959451250821044417886630346229021305410340100401530146135418806544340908355106582089082980533651095594192031411679866134256418292249592135441145384466261279428795408721990564658703903787956958168449841491667690491585550160457893350536334242689\n",
    "\n",
    "\n",
    "plaintext = b\"crypto{Immut4ble_m3ssag1ng}\"\n",
    "\n",
    "m = sha256(plaintext).hexdigest()\n",
    "m1 = bytes.fromhex(m)\n",
    "c = bytes_to_long(m1)\n",
    "\n",
    "s = pow(c,d,N)\n",
    "\n",
    "print(s)\n"
   ]
  },
  {
   "cell_type": "markdown",
   "metadata": {},
   "source": [
    "## Factoring"
   ]
  },
  {
   "cell_type": "code",
   "execution_count": 9,
   "metadata": {},
   "outputs": [
    {
     "name": "stdout",
     "output_type": "stream",
     "text": [
      "{19704762736204164635843: 1, 25889363174021185185929: 1}\n"
     ]
    }
   ],
   "source": [
    "import primefac\n",
    "from sympy.ntheory import factorint\n",
    "\n",
    "N = 510143758735509025530880200653196460532653147\n",
    "\n",
    "print(factorint(N))"
   ]
  },
  {
   "cell_type": "markdown",
   "metadata": {},
   "source": [
    "## Monoprime"
   ]
  },
  {
   "cell_type": "code",
   "execution_count": 10,
   "metadata": {},
   "outputs": [
    {
     "name": "stdout",
     "output_type": "stream",
     "text": [
      "b'crypto{0n3_pr1m3_41n7_pr1m3_l0l}'\n"
     ]
    }
   ],
   "source": [
    "from Crypto.Util.number import bytes_to_long,long_to_bytes\n",
    "\n",
    "n  = 171731371218065444125482536302245915415603318380280392385291836472299752747934607246477508507827284075763910264995326010251268493630501989810855418416643352631102434317900028697993224868629935657273062472544675693365930943308086634291936846505861203914449338007760990051788980485462592823446469606824421932591\n",
    "e  = 65537\n",
    "ct = 161367550346730604451454756189028938964941280347662098798775466019463375610700074840105776873791605070092554650190486030367121011578171525759600774739890458414593857709994072516290998135846956596662071379067305011746842247628316996977338024343628757374524136260758515864509435302781735938531030576289086798942\n",
    "\n",
    "d = pow(e,-1,n-1)\n",
    "\n",
    "m = pow(ct,d,n)\n",
    "\n",
    "print(long_to_bytes(m))\n"
   ]
  },
  {
   "cell_type": "markdown",
   "metadata": {},
   "source": [
    "## Manyprime"
   ]
  },
  {
   "cell_type": "code",
   "execution_count": 11,
   "metadata": {},
   "outputs": [
    {
     "name": "stdout",
     "output_type": "stream",
     "text": [
      "b'crypto{700_m4ny_5m4ll_f4c70r5}'\n"
     ]
    }
   ],
   "source": [
    "from Crypto.Util.number import bytes_to_long,long_to_bytes\n",
    "\n",
    "\n",
    "n = 580642391898843192929563856870897799650883152718761762932292482252152591279871421569162037190419036435041797739880389529593674485555792234900969402019055601781662044515999210032698275981631376651117318677368742867687180140048715627160641771118040372573575479330830092989800730105573700557717146251860588802509310534792310748898504394966263819959963273509119791037525504422606634640173277598774814099540555569257179715908642917355365791447508751401889724095964924513196281345665480688029639999472649549163147599540142367575413885729653166517595719991872223011969856259344396899748662101941230745601719730556631637\n",
    "e = 65537\n",
    "ct = 320721490534624434149993723527322977960556510750628354856260732098109692581338409999983376131354918370047625150454728718467998870322344980985635149656977787964380651868131740312053755501594999166365821315043312308622388016666802478485476059625888033017198083472976011719998333985531756978678758897472845358167730221506573817798467100023754709109274265835201757369829744113233607359526441007577850111228850004361838028842815813724076511058179239339760639518034583306154826603816927757236549096339501503316601078891287408682099750164720032975016814187899399273719181407940397071512493967454225665490162619270814464\n",
    "n1  = 9282105380008121879\n",
    "n2  = 9303850685953812323\n",
    "n3  = 9389357739583927789\n",
    "n4  = 10336650220878499841\n",
    "n5  = 10638241655447339831\n",
    "n6  = 11282698189561966721\n",
    "n7  = 11328768673634243077\n",
    "n8  = 11403460639036243901\n",
    "n9  = 11473665579512371723\n",
    "n10 = 11492065299277279799\n",
    "n11 = 11530534813954192171\n",
    "n12 = 11665347949879312361\n",
    "n13 = 12132158321859677597\n",
    "n14 = 12834461276877415051\n",
    "n15 = 12955403765595949597\n",
    "n16 = 12973972336777979701\n",
    "n17 = 13099895578757581201\n",
    "n18 = 13572286589428162097\n",
    "n19 = 14100640260554622013\n",
    "n20 = 14178869592193599187\n",
    "n21 = 14278240802299816541\n",
    "n22 = 14523070016044624039\n",
    "n23 = 14963354250199553339\n",
    "n24 = 15364597561881860737\n",
    "n25 = 15669758663523555763\n",
    "n26 = 15824122791679574573\n",
    "n27 = 15998365463074268941\n",
    "n28 = 16656402470578844539\n",
    "n29 = 16898740504023346457\n",
    "n30 = 17138336856793050757\n",
    "n31 = 17174065872156629921\n",
    "n32 = 17281246625998849649\n",
    "\n",
    "#print(factor(n))\n",
    "\n",
    "fn = (n1-1)*(n2-1)*(n3-1)*(n4-1)*(n5-1)*(n6-1)*(n7-1)*(n8-1)*(n9-1)*(n10-1)*(n11-1)*(n12-1)*(n13-1)*(n14-1)*(n15-1)*(n16-1)*(n17-1)*(n18-1)*(n19-1)*(n20-1)*(n21-1)*(n22-1)*(n23-1)*(n24-1)*(n25-1)*(n26-1)*(n27-1)*(n28-1)*(n29-1)*(n30-1)*(n31-1)*(n32-1)\n",
    "\n",
    "\n",
    "d = pow(e,-1,fn)\n",
    "\n",
    "m = pow(ct,d,n)\n",
    "\n",
    "print(long_to_bytes(m))"
   ]
  },
  {
   "cell_type": "markdown",
   "metadata": {},
   "source": [
    "## Salty"
   ]
  },
  {
   "cell_type": "code",
   "execution_count": 12,
   "metadata": {},
   "outputs": [
    {
     "name": "stdout",
     "output_type": "stream",
     "text": [
      "Value of d :  1\n",
      "n = 61114512612761706388385628707224554858960536886588306202739627193648984309598495413356236682212587678072900155478944085012849216707849588267534070771940182891526948131732206774072606245889834908202746537384388469926374512799395724724475531620210889483150502680825521338004825514519338991703828207237414493843\n",
      "e = 1\n",
      "ct = 9525146106593233650966453490590527793035307466711723645\n",
      "b'crypto{saltstack_fell_for_this!}'\n"
     ]
    }
   ],
   "source": [
    "from Crypto.Util.number import getPrime, inverse, bytes_to_long, long_to_bytes\n",
    "\n",
    "e = 1\n",
    "d = -1\n",
    "\n",
    "while d == -1:\n",
    "    p = getPrime(512)\n",
    "    q = getPrime(512)\n",
    "    phi = (p - 1) * (q - 1)\n",
    "    d = inverse(e, phi)\n",
    "    print(\"Value of d : \",d)\n",
    "\n",
    "n = p * q\n",
    "\n",
    "flag = b\"crypto{fake_flag_again}\"\n",
    "pt = bytes_to_long(flag)\n",
    "ct = pow(pt, e, n)\n",
    "\n",
    "print(f\"n = {n}\")\n",
    "print(f\"e = {e}\")\n",
    "print(f\"ct = {ct}\")\n",
    "\n",
    "pt = pow(ct, d, n)\n",
    "decrypted = long_to_bytes(pt)\n",
    "assert decrypted == flag\n",
    "\n",
    "\n",
    "\n",
    "n = 110581795715958566206600392161360212579669637391437097703685154237017351570464767725324182051199901920318211290404777259728923614917211291562555864753005179326101890427669819834642007924406862482343614488768256951616086287044725034412802176312273081322195866046098595306261781788276570920467840172004530873767\n",
    "e = 1\n",
    "ct = 44981230718212183604274785925793145442655465025264554046028251311164494127485\n",
    "\n",
    "\n",
    "d = 1\n",
    "\n",
    "m = pow(ct,d,n)\n",
    "print(long_to_bytes(m))"
   ]
  },
  {
   "cell_type": "markdown",
   "metadata": {},
   "source": [
    "## Modulus Inutilis"
   ]
  },
  {
   "cell_type": "code",
   "execution_count": 13,
   "metadata": {},
   "outputs": [
    {
     "name": "stdout",
     "output_type": "stream",
     "text": [
      "b'crypto{N33d_m04R_p4dd1ng}'\n"
     ]
    }
   ],
   "source": [
    "from Crypto.Util.number import long_to_bytes\n",
    "\n",
    "def find_cube_root(n):\n",
    "       low = 0\n",
    "       high = n\n",
    "       while low < high:\n",
    "           mid = (low+high)//2\n",
    "           if mid**3 < n:\n",
    "               low = mid+1\n",
    "           else:\n",
    "               high = mid\n",
    "       return(low)\n",
    "\n",
    "ct = 243251053617903760309941844835411292373350655973075480264001352919865180151222189820473358411037759381328642957324889519192337152355302808400638052620580409813222660643570085177957\n",
    "\n",
    "print(long_to_bytes(find_cube_root(ct)))"
   ]
  },
  {
   "cell_type": "markdown",
   "metadata": {},
   "source": [
    "## Working with Fields"
   ]
  },
  {
   "cell_type": "code",
   "execution_count": 14,
   "metadata": {},
   "outputs": [
    {
     "name": "stdout",
     "output_type": "stream",
     "text": [
      "569\n"
     ]
    }
   ],
   "source": [
    "#!/usr/bin/env python3\n",
    "\n",
    "from Crypto.Util.number import getPrime, inverse, bytes_to_long, long_to_bytes\n",
    "\n",
    "p = 991\n",
    "g = 209\n",
    "\n",
    "d = inverse(g,p)\n",
    "\n",
    "print(d)"
   ]
  },
  {
   "cell_type": "markdown",
   "metadata": {},
   "source": [
    "## Generator of Groups"
   ]
  },
  {
   "cell_type": "code",
   "execution_count": 15,
   "metadata": {},
   "outputs": [
    {
     "name": "stdout",
     "output_type": "stream",
     "text": [
      "7\n"
     ]
    }
   ],
   "source": [
    "#!/usr/bin/env python3\n",
    "\n",
    "from Crypto.Util.number import getPrime, inverse, bytes_to_long, long_to_bytes\n",
    "\n",
    "\n",
    "def is_generator(k, p):\n",
    "  for n in range(2, p):\n",
    "    if pow(k, n, p) == k:\n",
    "      return False\n",
    "  return True\n",
    "\n",
    "p = 28151\n",
    "for k in range(p):\n",
    "  if is_generator(k, p):\n",
    "    print(k)\n",
    "    break"
   ]
  },
  {
   "cell_type": "markdown",
   "metadata": {},
   "source": [
    "## Computing Public Values"
   ]
  },
  {
   "cell_type": "code",
   "execution_count": 16,
   "metadata": {},
   "outputs": [
    {
     "name": "stdout",
     "output_type": "stream",
     "text": [
      "1806857697840726523322586721820911358489420128129248078673933653533930681676181753849411715714173604352323556558783759252661061186320274214883104886050164368129191719707402291577330485499513522368289395359523901406138025022522412429238971591272160519144672389532393673832265070057319485399793101182682177465364396277424717543434017666343807276970864475830391776403957550678362368319776566025118492062196941451265638054400177248572271342548616103967411990437357924\n"
     ]
    }
   ],
   "source": [
    "#!/usr/bin/env python3\n",
    "\n",
    "from Crypto.Util.number import getPrime, inverse, bytes_to_long, long_to_bytes\n",
    "\n",
    "g = 2\n",
    "\n",
    "p = 2410312426921032588552076022197566074856950548502459942654116941958108831682612228890093858261341614673227141477904012196503648957050582631942730706805009223062734745341073406696246014589361659774041027169249453200378729434170325843778659198143763193776859869524088940195577346119843545301547043747207749969763750084308926339295559968882457872412993810129130294592999947926365264059284647209730384947211681434464714438488520940127459844288859336526896320919633919\n",
    "\n",
    "a = 972107443837033796245864316200458246846904598488981605856765890478853088246897345487328491037710219222038930943365848626194109830309179393018216763327572120124760140018038673999837643377590434413866611132403979547150659053897355593394492586978400044375465657296027592948349589216415363722668361328689588996541370097559090335137676411595949335857341797148926151694299575970292809805314431447043469447485957669949989090202320234337890323293401862304986599884732815\n",
    "\n",
    "res = pow(g,a,p)\n",
    "\n",
    "print(res)"
   ]
  },
  {
   "cell_type": "markdown",
   "metadata": {},
   "source": [
    "## Computing Shared Secrets"
   ]
  },
  {
   "cell_type": "code",
   "execution_count": 17,
   "metadata": {},
   "outputs": [
    {
     "name": "stdout",
     "output_type": "stream",
     "text": [
      "1174130740413820656533832746034841985877302086316388380165984436672307692443711310285014138545204369495478725102882673427892104539120952393788961051992901649694063179853598311473820341215879965343136351436410522850717408445802043003164658348006577408558693502220285700893404674592567626297571222027902631157072143330043118418467094237965591198440803970726604537807146703763571606861448354607502654664700390453794493176794678917352634029713320615865940720837909466\n"
     ]
    }
   ],
   "source": [
    "#!/usr/bin/env python3\n",
    "\n",
    "from Crypto.Util.number import getPrime, inverse, bytes_to_long, long_to_bytes\n",
    "\n",
    "p = 2410312426921032588552076022197566074856950548502459942654116941958108831682612228890093858261341614673227141477904012196503648957050582631942730706805009223062734745341073406696246014589361659774041027169249453200378729434170325843778659198143763193776859869524088940195577346119843545301547043747207749969763750084308926339295559968882457872412993810129130294592999947926365264059284647209730384947211681434464714438488520940127459844288859336526896320919633919\n",
    "\n",
    "A = 70249943217595468278554541264975482909289174351516133994495821400710625291840101960595720462672604202133493023241393916394629829526272643847352371534839862030410331485087487331809285533195024369287293217083414424096866925845838641840923193480821332056735592483730921055532222505605661664236182285229504265881752580410194731633895345823963910901731715743835775619780738974844840425579683385344491015955892106904647602049559477279345982530488299847663103078045601\n",
    "\n",
    "b = 12019233252903990344598522535774963020395770409445296724034378433497976840167805970589960962221948290951873387728102115996831454482299243226839490999713763440412177965861508773420532266484619126710566414914227560103715336696193210379850575047730388378348266180934946139100479831339835896583443691529372703954589071507717917136906770122077739814262298488662138085608736103418601750861698417340264213867753834679359191427098195887112064503104510489610448294420720\n",
    "\n",
    "s = pow(A,b,p)\n",
    "\n",
    "print(s)"
   ]
  },
  {
   "cell_type": "markdown",
   "metadata": {},
   "source": [
    "## Deriving Symmetric Keys"
   ]
  },
  {
   "cell_type": "code",
   "execution_count": 18,
   "metadata": {},
   "outputs": [
    {
     "name": "stdout",
     "output_type": "stream",
     "text": [
      "crypto{sh4r1ng_s3cret5_w1th_fr13nd5}\n"
     ]
    }
   ],
   "source": [
    "from Crypto.Cipher import AES\n",
    "from Crypto.Util.Padding import pad, unpad\n",
    "import hashlib\n",
    "\n",
    "\n",
    "def is_pkcs7_padded(message):\n",
    "    padding = message[-message[-1]:]\n",
    "    return all(padding[i] == len(padding) for i in range(0, len(padding)))\n",
    "\n",
    "\n",
    "def decrypt_flag(shared_secret: int, iv: str, ciphertext: str):\n",
    "    # Derive AES key from shared secret\n",
    "    sha1 = hashlib.sha1()\n",
    "    sha1.update(str(shared_secret).encode('ascii'))\n",
    "    key = sha1.digest()[:16]\n",
    "    # Decrypt flag\n",
    "    ciphertext = bytes.fromhex(ciphertext)\n",
    "    iv = bytes.fromhex(iv)\n",
    "    cipher = AES.new(key, AES.MODE_CBC, iv)\n",
    "    plaintext = cipher.decrypt(ciphertext)\n",
    "\n",
    "    if is_pkcs7_padded(plaintext):\n",
    "        return unpad(plaintext, 16).decode('ascii')\n",
    "    else:\n",
    "        return plaintext.decode('ascii')\n",
    "\n",
    "\n",
    "p = 2410312426921032588552076022197566074856950548502459942654116941958108831682612228890093858261341614673227141477904012196503648957050582631942730706805009223062734745341073406696246014589361659774041027169249453200378729434170325843778659198143763193776859869524088940195577346119843545301547043747207749969763750084308926339295559968882457872412993810129130294592999947926365264059284647209730384947211681434464714438488520940127459844288859336526896320919633919\n",
    "A = 112218739139542908880564359534373424013016249772931962692237907571990334483528877513809272625610512061159061737608547288558662879685086684299624481742865016924065000555267977830144740364467977206555914781236397216033805882207640219686011643468275165718132888489024688846101943642459655423609111976363316080620471928236879737944217503462265615774774318986375878440978819238346077908864116156831874695817477772477121232820827728424890845769152726027520772901423784\n",
    "b = 197395083814907028991785772714920885908249341925650951555219049411298436217190605190824934787336279228785809783531814507661385111220639329358048196339626065676869119737979175531770768861808581110311903548567424039264485661330995221907803300824165469977099494284722831845653985392791480264712091293580274947132480402319812110462641143884577706335859190668240694680261160210609506891842793868297672619625924001403035676872189455767944077542198064499486164431451944\n",
    "\n",
    "shared_secret = pow(A,b,p)\n",
    "iv = \"737561146ff8194f45290f5766ed6aba\"\n",
    "ciphertext = \"39c99bf2f0c14678d6a5416faef954b5893c316fc3c48622ba1fd6a9fe85f3dc72a29c394cf4bc8aff6a7b21cae8e12c\"\n",
    "\n",
    "print(decrypt_flag(shared_secret, iv, ciphertext))"
   ]
  },
  {
   "cell_type": "markdown",
   "metadata": {},
   "source": [
    "## Parameter Injection"
   ]
  },
  {
   "cell_type": "code",
   "execution_count": 19,
   "metadata": {},
   "outputs": [
    {
     "name": "stdout",
     "output_type": "stream",
     "text": [
      "C :  08\n",
      "D :  20\n",
      "crypto{n1c3_0n3_m4ll0ry!!!!!!!!}\n"
     ]
    }
   ],
   "source": [
    "from Crypto.Cipher import AES\n",
    "from Crypto.Util.Padding import pad, unpad\n",
    "import hashlib\n",
    "from Crypto.Util.number import getPrime, inverse, bytes_to_long, long_to_bytes\n",
    "\n",
    "\n",
    "\n",
    "def is_pkcs7_padded(message):\n",
    "    padding = message[-message[-1]:]\n",
    "    return all(padding[i] == len(padding) for i in range(0, len(padding)))\n",
    "\n",
    "\n",
    "def decrypt_flag(shared_secret: int, iv: str, ciphertext: str):\n",
    "    # Derive AES key from shared secret\n",
    "    sha1 = hashlib.sha1()\n",
    "    sha1.update(str(shared_secret).encode('ascii'))\n",
    "    key = sha1.digest()[:16]\n",
    "    # Decrypt flag\n",
    "    ciphertext = bytes.fromhex(ciphertext)\n",
    "    iv = bytes.fromhex(iv)\n",
    "    cipher = AES.new(key, AES.MODE_CBC, iv)\n",
    "    plaintext = cipher.decrypt(ciphertext)\n",
    "\n",
    "    if is_pkcs7_padded(plaintext):\n",
    "        return unpad(plaintext, 16).decode('ascii')\n",
    "    else:\n",
    "        return plaintext.decode('ascii')\n",
    "\n",
    "c = 3\n",
    "d = 5\n",
    "\n",
    "g_hex = \"02\"\n",
    "\n",
    "p_hex = \"ffffffffffffffffc90fdaa22168c234c4c6628b80dc1cd129024e088a67cc74020bbea63b139b22514a08798e3404ddef9519b3cd3a431b302b0a6df25f14374fe1356d6d51c245e485b576625e7ec6f44c42e9a637ed6b0bff5cb6f406b7edee386bfb5a899fa5ae9f24117c4b1fe649286651ece45b3dc2007cb8a163bf0598da48361c55d39a69163fa8fd24cf5f83655d23dca3ad961c62f356208552bb9ed529077096966d670c354e4abc9804f1746c08ca237327ffffffffffffffff\"\n",
    "\n",
    "\n",
    "g = bytes_to_long(bytes.fromhex(g_hex))\n",
    "\n",
    "p = bytes_to_long(bytes.fromhex(p_hex))\n",
    "\n",
    "C = pow(g,c,p)\n",
    "\n",
    "D = pow(g,d,p)\n",
    "\n",
    "\n",
    "print(\"C : \",long_to_bytes(C).hex())\n",
    "\n",
    "print(\"D : \",long_to_bytes(D).hex())\n",
    "\n",
    "\n",
    "iv = \"3f7cd8d6957ede2e12e576e39b265506\"\n",
    "\n",
    "ciphertext = \"03887815b2747e6f1bdbcdc1aad0086fc219c9989063cdf1982207e03b5934b0\"\n",
    "\n",
    "A_hex = \"39c9ca671df0c12d5ee02d70e4fe9d0b26d473d57f59c787a182874dc2ca5efc5c4d2f0880954533382a987c11cd3493745865273f80d4e5d7563b0da7303d07996bd6e272c818c9dd569b13e154df3e3f6205c7cebeb59ce1e14cfdbab8a8d8f088656b7d4a29b9d0db6e98773a3603f18ac00efe1153ca1638231048488b1e2abceb6fb7e411310cfb72d9b25a22b0e4db50fd94747fd0e0dfbe526aaf9b50eb79761673a967348689b508ffccf3b1fd9afb660faf001a5397447e0758b8fe\"\n",
    "\n",
    "A = bytes_to_long(bytes.fromhex(A_hex))\n",
    "\n",
    "sa = pow(A,d,p)\n",
    "\n",
    "print(decrypt_flag(sa,iv,ciphertext))"
   ]
  },
  {
   "cell_type": "markdown",
   "metadata": {},
   "source": [
    "## Export-grade"
   ]
  },
  {
   "cell_type": "code",
   "execution_count": 20,
   "metadata": {},
   "outputs": [
    {
     "name": "stdout",
     "output_type": "stream",
     "text": [
      "crypto{d0wn6r4d35_4r3_d4n63r0u5}\n"
     ]
    }
   ],
   "source": [
    "from Crypto.Cipher import AES\n",
    "from Crypto.Util.Padding import pad, unpad\n",
    "import hashlib\n",
    "from Crypto.Util.number import getPrime, inverse, bytes_to_long, long_to_bytes\n",
    "from sympy.ntheory import discrete_log\n",
    "\n",
    "\n",
    "def is_pkcs7_padded(message):\n",
    "    padding = message[-message[-1]:]\n",
    "    return all(padding[i] == len(padding) for i in range(0, len(padding)))\n",
    "\n",
    "\n",
    "def decrypt_flag(shared_secret: int, iv: str, ciphertext: str):\n",
    "    # Derive AES key from shared secret\n",
    "    sha1 = hashlib.sha1()\n",
    "    sha1.update(str(shared_secret).encode('ascii'))\n",
    "    key = sha1.digest()[:16]\n",
    "    # Decrypt flag\n",
    "    ciphertext = bytes.fromhex(ciphertext)\n",
    "    iv = bytes.fromhex(iv)\n",
    "    cipher = AES.new(key, AES.MODE_CBC, iv)\n",
    "    plaintext = cipher.decrypt(ciphertext)\n",
    "\n",
    "    if is_pkcs7_padded(plaintext):\n",
    "        return unpad(plaintext, 16).decode('ascii')\n",
    "    else:\n",
    "        return plaintext.decode('ascii')\n",
    "\n",
    "c = 3\n",
    "d = 5\n",
    "\n",
    "g_hex = \"02\"\n",
    "\n",
    "p_hex = \"de26ab651b92a129\"\n",
    "\n",
    "B_hex = \"43455b1d935410da\"\n",
    "\n",
    "\n",
    "g = bytes_to_long(bytes.fromhex(g_hex))\n",
    "\n",
    "p = bytes_to_long(bytes.fromhex(p_hex))\n",
    "\n",
    "B = bytes_to_long(bytes.fromhex(B_hex))\n",
    "\n",
    "b = discrete_log(p,B,g)\n",
    " #s \\log_7(15) (mod 41\n",
    " # discrete_log(41, 15, 7)\n",
    "\n",
    "\n",
    "\n",
    "\n",
    "iv = \"be2ba2a48fe8aa0071c2c8b09aad2976\"\n",
    "\n",
    "ciphertext = \"c1058a452706c412207e200184996b2868a501360a712d43b398b36538c9a8e0\"\n",
    "\n",
    "A_hex = \"3e5725536c80cb45\"\n",
    "\n",
    "A = bytes_to_long(bytes.fromhex(A_hex))\n",
    "\n",
    "sa = pow(A,b,p)\n",
    "\n",
    "print(decrypt_flag(sa,iv,ciphertext))"
   ]
  }
 ],
 "metadata": {
  "kernelspec": {
   "display_name": "Python 3",
   "language": "python",
   "name": "python3"
  },
  "language_info": {
   "codemirror_mode": {
    "name": "ipython",
    "version": 3
   },
   "file_extension": ".py",
   "mimetype": "text/x-python",
   "name": "python",
   "nbconvert_exporter": "python",
   "pygments_lexer": "ipython3",
   "version": "3.12.6"
  }
 },
 "nbformat": 4,
 "nbformat_minor": 2
}
